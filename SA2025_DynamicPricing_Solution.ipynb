{
 "cells": [
  {
   "cell_type": "markdown",
   "metadata": {},
   "source": [
    "# Dynamic Pricing for Urban Parking Lots - Capstone Project"
   ]
  },
  {
   "cell_type": "markdown",
   "metadata": {},
   "source": [
    "### 1. Project Setup and Dependencies\n",
    "First, we need to install the necessary libraries. We'll use `pathway` for building the real-time data pipeline and `bokeh` for visualization."
   ]
  },
  {
   "cell_type": "code",
   "execution_count": 1,
   "metadata": {},
   "outputs": [],
   "source": [
    "!pip install pathway bokeh --quiet"
   ]
  },
  {
   "cell_type": "markdown",
   "metadata": {},
   "source": [
    "### 2. Importing Libraries and Defining the Data Schema\n",
    "Next, we import the required modules and define a schema for our input data. The schema ensures that our data pipeline correctly interprets the data types from the CSV file."
   ]
  },
  {
   "cell_type": "code",
   "execution_count": 4,
   "metadata": {},
   "outputs": [
    {
     "ename": "ModuleNotFoundError",
     "evalue": "No module named 'pathway.stdlib'\nThis is not the real Pathway package.\nVisit https://pathway.com/developers/ to get Pathway.\nAlready tried that? Visit https://pathway.com/troubleshooting/ to get help.\nNote: your platform is Windows-11-10.0.26100-SP0, your Python is CPython 3.13.5.",
     "output_type": "error",
     "traceback": [
      "\u001b[31m---------------------------------------------------------------------------\u001b[39m",
      "\u001b[31mModuleNotFoundError\u001b[39m                       Traceback (most recent call last)",
      "\u001b[36mCell\u001b[39m\u001b[36m \u001b[39m\u001b[32mIn[4]\u001b[39m\u001b[32m, line 3\u001b[39m\n\u001b[32m      1\u001b[39m \u001b[38;5;28;01mimport\u001b[39;00m\u001b[38;5;250m \u001b[39m\u001b[34;01mpathway\u001b[39;00m\u001b[38;5;250m \u001b[39m\u001b[38;5;28;01mas\u001b[39;00m\u001b[38;5;250m \u001b[39m\u001b[34;01mpw\u001b[39;00m\n\u001b[32m      2\u001b[39m \u001b[38;5;28;01mfrom\u001b[39;00m\u001b[38;5;250m \u001b[39m\u001b[34;01mdatetime\u001b[39;00m\u001b[38;5;250m \u001b[39m\u001b[38;5;28;01mimport\u001b[39;00m datetime\n\u001b[32m----> \u001b[39m\u001b[32m3\u001b[39m \u001b[38;5;28;01mfrom\u001b[39;00m\u001b[38;5;250m \u001b[39m\u001b[34;01mpathway\u001b[39;00m\u001b[34;01m.\u001b[39;00m\u001b[34;01mstdlib\u001b[39;00m\u001b[34;01m.\u001b[39;00m\u001b[34;01mml\u001b[39;00m\u001b[34;01m.\u001b[39;00m\u001b[34;01mindex\u001b[39;00m\u001b[38;5;250m \u001b[39m\u001b[38;5;28;01mimport\u001b[39;00m KNNIndex\n\u001b[32m      4\u001b[39m \u001b[38;5;66;03m# Define the schema for our parking data\u001b[39;00m\n\u001b[32m      5\u001b[39m \u001b[38;5;28;01mclass\u001b[39;00m\u001b[38;5;250m \u001b[39m\u001b[34;01mParkingData\u001b[39;00m(pw.Schema):\n",
      "\u001b[36mFile \u001b[39m\u001b[32m~\\AppData\\Roaming\\Python\\Python313\\site-packages\\pathway\\_stub_finder.py:13\u001b[39m, in \u001b[36mStubFinder.find_spec\u001b[39m\u001b[34m(self, fullname, path, target)\u001b[39m\n\u001b[32m     11\u001b[39m     warning = pathway._warning()\n\u001b[32m     12\u001b[39m     error = error + \u001b[33m\"\u001b[39m\u001b[38;5;130;01m\\n\u001b[39;00m\u001b[33m\"\u001b[39m + warning\n\u001b[32m---> \u001b[39m\u001b[32m13\u001b[39m     \u001b[38;5;28;01mraise\u001b[39;00m \u001b[38;5;167;01mModuleNotFoundError\u001b[39;00m(error)\n\u001b[32m     14\u001b[39m \u001b[38;5;28;01mreturn\u001b[39;00m \u001b[38;5;28;01mNone\u001b[39;00m\n",
      "\u001b[31mModuleNotFoundError\u001b[39m: No module named 'pathway.stdlib'\nThis is not the real Pathway package.\nVisit https://pathway.com/developers/ to get Pathway.\nAlready tried that? Visit https://pathway.com/troubleshooting/ to get help.\nNote: your platform is Windows-11-10.0.26100-SP0, your Python is CPython 3.13.5."
     ]
    }
   ],
   "source": [
    "import pathway as pw\n",
    "from datetime import datetime\n",
    "from pathway.stdlib.ml.index import KNNIndex\n",
    "# Define the schema for our parking data\n",
    "class ParkingData(pw.Schema):\n",
    "    ParkingSpaceID: int\n",
    "    Timestamp: str\n",
    "    Occupancy: int\n",
    "    Capacity: int\n",
    "    IsSpecialDay: bool\n",
    "    TrafficConditionNearby: str\n",
    "    CompetitorPrice: float"
   ]
  },
  {
   "cell_type": "markdown",
   "metadata": {},
   "source": [
    "### 3. Building the Real-Time Data Pipeline\n",
    "We will now build a real-time data pipeline using Pathway. This pipeline will read data from `dataset.csv`, process it in real-time, and calculate dynamic prices."
   ]
  },
  {
   "cell_type": "code",
   "execution_count": null,
   "metadata": {},
   "outputs": [],
   "source": [
    "# Read the data from the CSV file as a real-time stream\n",
    "parking_stream = pw.io.csv.read(\n",
    "    './dataset.csv',\n",
    "    schema=ParkingData,\n",
    "    mode='streaming',\n",
    "    autocommit_duration_ms=1000,\n",
    ")\n",
    "# Preprocess the timestamp\n",
    "parking_stream = parking_stream.with_columns(\n",
    "    Timestamp=pw.apply(lambda ts: datetime.strptime(ts, '%Y-%m-%d %H:%M:%S'), parking_stream.Timestamp)\n",
    ")"
   ]
  },
  {
   "cell_type": "markdown",
   "metadata": {},
   "source": [
    "### 4. Model 1: Baseline Linear Model\n",
    "We start with a simple linear model where the price increases with occupancy. This serves as a baseline to compare against more advanced models."
   ]
  },
  {
   "cell_type": "code",
   "execution_count": null,
   "metadata": {},
   "outputs": [],
   "source": [
    "# Define the baseline pricing function\n",
    "def baseline_price_model(occupancy, capacity):\n",
    "    base_price = 10.0\n",
    "    alpha = 5.0  # Sensitivity factor\n",
    "    \n",
    "    if capacity == 0:\n",
    "        return base_price\n",
    "    \n",
    "    occupancy_ratio = occupancy / capacity\n",
    "    price = base_price + alpha * occupancy_ratio\n",
    "    return round(price, 2)\n",
    "\n",
    "# Apply the baseline pricing model\n",
    "baseline_prices = parking_stream.with_columns(\n",
    "    price=pw.apply(baseline_price_model, parking_stream.Occupancy, parking_stream.Capacity)\n",
    ")\n",
    "\n",
    "# Visualize the baseline prices\n",
    "pw.io.bokeh.write(\n",
    "    baseline_prices,\n",
    "    x='Timestamp',\n",
    "    y='price',\n",
    "    title='Model 1: Baseline Linear Pricing',\n",
    "    x_axis_label='Time',\n",
    "    y_axis_label='Price (units)'\n",
    ")"
   ]
  },
  {
   "cell_type": "markdown",
   "metadata": {},
   "source": [
    "### 5. Model 2: Demand-Based Price Function\n",
    "Now, we implement a more advanced model that considers demand volatility, traffic, special days, and competitor pricing."
   ]
  },
  {
   "cell_type": "code",
   "execution_count": null,
   "metadata": {},
   "outputs": [],
   "source": [
    "# Define a daily window for aggregation\n",
    "daily_window = pw.temporal.tumbling_windows(\n",
    "    parking_stream.Timestamp,\n",
    "    duration=pw.temporal.hours(24)\n",
    ")\n",
    "\n",
    "# Aggregate data to find min and max occupancy per day\n",
    "daily_occupancy_stats = parking_stream.groupby(parking_stream.ParkingSpaceID, window=daily_window).reduce(\n",
    "    parking_stream.ParkingSpaceID,\n",
    "    min_occupancy=pw.reducers.min(parking_stream.Occupancy),\n",
    "    max_occupancy=pw.reducers.max(parking_stream.Occupancy),\n",
    "    capacity=pw.reducers.max(parking_stream.Capacity),  # Capacity is constant for a space\n",
    "    is_special_day=pw.reducers.last(parking_stream.IsSpecialDay),\n",
    "    traffic_condition=pw.reducers.last(parking_stream.TrafficConditionNearby),\n",
    "    competitor_price=pw.reducers.last(parking_stream.CompetitorPrice)\n",
    ")"
   ]
  },
  {
   "cell_type": "markdown",
   "metadata": {},
   "source": [
    "#### Demand Function\n",
    "Our dynamic pricing model now incorporates multiple factors to determine the price:\n",
    "\n",
    "*   **Occupancy Volatility**: `(MaxOccupancy - MinOccupancy) / Capacity` - This captures the daily demand fluctuation.\n",
    "*   **Traffic Conditions**: A multiplier is applied based on nearby traffic (`Low`: 1.0x, `Medium`: 1.2x, `High`: 1.5x).\n",
    "*   **Special Days**: A surcharge of 5 units is added on special days (e.g., holidays, events).\n",
    "*   **Competitor Pricing**: The final price is adjusted to be competitive, staying within a 10% range of the competitor's price.\n",
    "\n",
    "The formula is a combination of these factors, starting from a `BasePrice` of 10.\n",
    "\n",
    "#### Assumptions\n",
    "1.  **Data represents demand**: `Occupancy` is a proxy for demand.\n",
    "2.  **Factor Importance**: The chosen multipliers and surcharges reflect the assumed importance of each factor.\n",
    "3.  **Competitor Influence**: We aim to be competitive, not necessarily the cheapest.\n",
    "4.  **Real-time simulation**: The CSV data is streamed to simulate a live environment."
   ]
  },
  {
   "cell_type": "code",
   "execution_count": null,
   "metadata": {},
   "outputs": [],
   "source": [
    "# Define the pricing function\n",
    "def calculate_price(max_occupancy, min_occupancy, capacity, is_special_day, traffic_condition, competitor_price):\n",
    "    base_price = 10.0\n",
    "\n",
    "    if capacity == 0:\n",
    "        return base_price\n",
    "\n",
    "    # Demand factor based on occupancy volatility\n",
    "    demand_factor = (max_occupancy - min_occupancy) / capacity\n",
    "\n",
    "    # Traffic condition multiplier\n",
    "    traffic_multiplier = 1.0\n",
    "    if traffic_condition == 'Medium':\n",
    "        traffic_multiplier = 1.2\n",
    "    elif traffic_condition == 'High':\n",
    "        traffic_multiplier = 1.5\n",
    "\n",
    "    # Special day surcharge\n",
    "    special_day_surcharge = 0.0\n",
    "    if is_special_day:\n",
    "        special_day_surcharge = 5.0\n",
    "\n",
    "    # Calculate price based on our factors\n",
    "    price = base_price + (demand_factor * 10) + special_day_surcharge\n",
    "    price *= traffic_multiplier\n",
    "\n",
    "    # Adjust based on competitor price, ensuring our price is competitive\n",
    "    if price > competitor_price * 1.1:\n",
    "        price = competitor_price * 1.1\n",
    "    elif price < competitor_price * 0.9:\n",
    "        price = competitor_price * 0.9\n",
    "    \n",
    "    return round(price, 2)\n",
    "\n",
    "# Apply the pricing model to our aggregated data\n",
    "daily_prices = daily_occupancy_stats.with_columns(\n",
    "    price=pw.apply(calculate_price, \n",
    "                   daily_occupancy_stats.max_occupancy, \n",
    "                   daily_occupancy_stats.min_occupancy, \n",
    "                   daily_occupancy_stats.capacity,\n",
    "                   daily_occupancy_stats.is_special_day,\n",
    "                   daily_occupancy_stats.traffic_condition,\n",
    "                   daily_occupancy_stats.competitor_price)\n",
    ")"
   ]
  },
  {
   "cell_type": "markdown",
   "metadata": {},
   "source": [
    "### 6. Visualization for Model 2\n",
    "This visualization shows the prices calculated by the more advanced demand-based model."
   ]
  },
  {
   "cell_type": "code",
   "execution_count": null,
   "metadata": {},
   "outputs": [],
   "source": [
    "from bokeh.plotting import figure, show\n",
    "from bokeh.io import output_notebook\n",
    "# This is necessary to display Bokeh plots in the notebook\n",
    "output_notebook() \n",
    "# Set up the real-time visualization sink\n",
    "pw.io.bokeh.write(\n",
    "    daily_prices,\n",
    "    x='time',\n",
    "    y='price',\n",
    "    sorting_col='time',\n",
    "    title='Model 2: Demand-Based Dynamic Pricing',\n",
    "    x_axis_label='Time',\n",
    "    y_axis_label='Price (units)',\n",
    "    width=800,\n",
    "    height=400\n",
    ")"
   ]
  },
  {
   "cell_type": "markdown",
   "metadata": {},
   "source": [
    "### 7. Running the Pipelines\n",
    "Now, we run the pipelines. This will start the data streaming, processing, and visualization for both models. You should see two Bokeh plots appear below, which will update in real-time."
   ]
  },
  {
   "cell_type": "code",
   "execution_count": null,
   "metadata": {},
   "outputs": [],
   "source": [
    "# Run the pipeline. This is a blocking call and will run indefinitely.\n",
    "# In a notebook, you may need to interrupt the kernel to stop it.\n",
    "pw.run()"
   ]
  }
 ],
 "metadata": {
  "kernelspec": {
   "display_name": "Python 3",
   "language": "python",
   "name": "python3"
  },
  "language_info": {
   "codemirror_mode": {
    "name": "ipython",
    "version": 3
   },
   "file_extension": ".py",
   "mimetype": "text/x-python",
   "name": "python",
   "nbconvert_exporter": "python",
   "pygments_lexer": "ipython3",
   "version": "3.13.5"
  }
 },
 "nbformat": 4,
 "nbformat_minor": 4
}
